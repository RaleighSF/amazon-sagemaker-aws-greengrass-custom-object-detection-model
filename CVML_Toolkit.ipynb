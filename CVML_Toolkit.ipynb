{
 "cells": [
  {
   "cell_type": "markdown",
   "metadata": {},
   "source": [
    "# CVML Tool Kit\n",
    "\n",
    "### This toolkit is comprised of a series of notebooks designed to enable the consumer to build their own ML models from scratch. The toolkit leverages pertinent AWS services and can be used as part of a greater CV/ML framework that consumes this model (or you can build/consume it as you wish). The notebooks DO assume reasonable technical understanding but do present the concepts in a piecemeal fashion where configuration requirements are clearly identified. The notebooks walk you through the following key components of most object detection workflows:\n",
    "\n",
    "1. Capturing Video/Images detailing the desired objects of interest (e.g. - a wakeboarder on the water, a squirrel in a natural habitat, or any other unique scenario)\n",
    "1. Explore techniques to scrub the data prior to labeling.\n",
    "1. Understand how to label data in the most efficient & cost effective manner. Label data yourself, with friends, or leveraging professional 3rd party services.\n",
    "1. Prep your labeled data for training, and divide your data-set into a training and validation set.\n",
    "1. Train your model against a Sagemaker containerized instance (Tensorflow algorithm)\n",
    "1. Test the accuracy of your model with 3rd party reference images. (Can it now detect the thing you've trained it on against images it's never seen)\n",
    "1. Export your model and enjoy in your own application.\n",
    "\n",
    "### The experience starts here:\n",
    "[Let's get started ...](./data-prep/01_Collect_Good_Data.ipynb)"
   ]
  },
  {
   "cell_type": "code",
   "execution_count": null,
   "metadata": {},
   "outputs": [],
   "source": []
  }
 ],
 "metadata": {
  "kernelspec": {
   "display_name": "conda_python3",
   "language": "python",
   "name": "conda_python3"
  },
  "language_info": {
   "codemirror_mode": {
    "name": "ipython",
    "version": 3
   },
   "file_extension": ".py",
   "mimetype": "text/x-python",
   "name": "python",
   "nbconvert_exporter": "python",
   "pygments_lexer": "ipython3",
   "version": "3.6.5"
  }
 },
 "nbformat": 4,
 "nbformat_minor": 4
}
